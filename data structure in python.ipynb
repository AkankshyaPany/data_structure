{
 "cells": [
  {
   "cell_type": "markdown",
   "metadata": {},
   "source": [
    "# DATA STRUCTURES"
   ]
  },
  {
   "cell_type": "markdown",
   "metadata": {},
   "source": [
    "**STRINGS** / **TUPLE** / **LIST**"
   ]
  },
  {
   "cell_type": "code",
   "execution_count": 8,
   "metadata": {},
   "outputs": [
    {
     "name": "stdout",
     "output_type": "stream",
     "text": [
      "OMPU\n",
      "CO\n",
      "R\n",
      "COMPU\n",
      "COMPUTER\n"
     ]
    }
   ],
   "source": [
    "x ='COMPUTER' ##slicing\n",
    "print(x[1:5])\n",
    "print(x[:2])\n",
    "print(x[-1:])\n",
    "print(x[:-3])\n",
    "print(x[-8:])"
   ]
  },
  {
   "cell_type": "code",
   "execution_count": 13,
   "metadata": {},
   "outputs": [
    {
     "name": "stdout",
     "output_type": "stream",
     "text": [
      "pythonlove\n",
      "['html', 'java', 'python', 'ml', 'dl']\n",
      "('shibanee', 'pankaj', 'ashu', 'sayeni')\n"
     ]
    }
   ],
   "source": [
    "#STRING\n",
    "x='python' + 'love'\n",
    "print(x)\n",
    "\n",
    "#LIST\n",
    "y=['html','java','python'] + ['ml','dl']\n",
    "print(y)\n",
    "\n",
    "#tUPLE\n",
    "z=('shibanee','pankaj','ashu') +('sayeni',) #in second tuple which i want to add/concatinate should end with a comma\n",
    "print(z)\n"
   ]
  },
  {
   "cell_type": "code",
   "execution_count": 14,
   "metadata": {
    "scrolled": false
   },
   "outputs": [
    {
     "name": "stdout",
     "output_type": "stream",
     "text": [
      "pyhtonpyhtonpyhton\n",
      "[2, 3, 2, 3]\n",
      "['apple', ',mango', 'apple', ',mango', 'apple', ',mango']\n",
      "(23, 45, 23, 45)\n",
      "('india', 'hindi', 'india', 'hindi')\n"
     ]
    }
   ],
   "source": [
    "#sTRING\n",
    "x='pyhton'*3\n",
    "print(x)\n",
    "\n",
    "#LIST\n",
    "y=[2,3]*2\n",
    "z=['apple',',mango']*3\n",
    "print(y)\n",
    "print(z)\n",
    "\n",
    "#TUPLE\n",
    "n=(23,45)*2\n",
    "m=('india','hindi')*2\n",
    "print(n)\n",
    "print(m)\n"
   ]
  },
  {
   "cell_type": "markdown",
   "metadata": {},
   "source": [
    "### **checking presence / membership **"
   ]
  },
  {
   "cell_type": "code",
   "execution_count": 16,
   "metadata": {},
   "outputs": [
    {
     "name": "stdout",
     "output_type": "stream",
     "text": [
      "True\n",
      "False\n",
      "True\n",
      "False\n"
     ]
    }
   ],
   "source": [
    "#string\n",
    "x='python'\n",
    "print('y' in x)\n",
    "\n",
    "#list\n",
    "y=['html','java','python']\n",
    "print('ml' in y)\n",
    "print('ml' not in y)\n",
    "\n",
    "#tuple\n",
    "m=('india','hindi')\n",
    "print('hindi' not in m)"
   ]
  },
  {
   "cell_type": "markdown",
   "metadata": {},
   "source": [
    "### ***iterating***"
   ]
  },
  {
   "cell_type": "code",
   "execution_count": 23,
   "metadata": {},
   "outputs": [
    {
     "name": "stdout",
     "output_type": "stream",
     "text": [
      "1\n",
      "2\n",
      "3\n",
      "4\n",
      "5\n",
      "0 10\n",
      "1 11\n",
      "2 12\n",
      "3 13\n",
      "4 15\n"
     ]
    }
   ],
   "source": [
    "##printing item of a list\n",
    "n =[1,2,3,4,5]\n",
    "for i in n:\n",
    "    print(i)\n",
    "    \n",
    "##printing item and their intex using **in enumerate**    \n",
    "\n",
    "x = [10,11,12,13,15]\n",
    "for index,item in enumerate(x):\n",
    "    print(index,item)"
   ]
  },
  {
   "cell_type": "markdown",
   "metadata": {},
   "source": [
    "***counting***"
   ]
  },
  {
   "cell_type": "code",
   "execution_count": 1,
   "metadata": {},
   "outputs": [
    {
     "name": "stdout",
     "output_type": "stream",
     "text": [
      "6\n",
      "3\n",
      "2\n"
     ]
    }
   ],
   "source": [
    "#STRING\n",
    "x='python'\n",
    "print(len(x))\n",
    "\n",
    "#LIST\n",
    "y=['python','java','html']\n",
    "print(len(y))\n",
    "\n",
    "#TUPLE\n",
    "z=('python','java')\n",
    "print(len(z))\n"
   ]
  },
  {
   "cell_type": "markdown",
   "metadata": {},
   "source": [
    "***printing max and min of numeric n ascii aplhabate***"
   ]
  },
  {
   "cell_type": "code",
   "execution_count": 5,
   "metadata": {},
   "outputs": [
    {
     "name": "stdout",
     "output_type": "stream",
     "text": [
      "h\n",
      "1\n",
      "html\n",
      "100\n",
      "java\n",
      "python\n",
      "30\n"
     ]
    }
   ],
   "source": [
    "#STRING\n",
    "x='python'\n",
    "print(min(x))\n",
    "\n",
    "x='1234'\n",
    "print(min(x))\n",
    "\n",
    "#LIST\n",
    "y=['python','java','html']\n",
    "print(min(y))\n",
    "\n",
    "y=[100,200,300]\n",
    "print(min(y))\n",
    "\n",
    "\n",
    "#TUPLE\n",
    "z=('python','java')\n",
    "print(min(z))\n",
    "\n",
    "z=('python','java')\n",
    "print(max(z))\n",
    "\n",
    "z=(10,20,30)\n",
    "print(max(z))\n",
    "\n"
   ]
  },
  {
   "cell_type": "code",
   "execution_count": 13,
   "metadata": {},
   "outputs": [
    {
     "name": "stdout",
     "output_type": "stream",
     "text": [
      "15\n",
      "12\n",
      "9\n",
      "6\n",
      "6\n"
     ]
    }
   ],
   "source": [
    "# STRING\n",
    "# x=[12,20,'hello']\n",
    "# print(sum(x))          ## **this will give a error cant sum up a string\n",
    "\n",
    "#LIST\n",
    "y=[1,2,3,4,5]\n",
    "print(sum(y))\n",
    "print(sum(y[2:]))  #sum of last three elements\n",
    "print(sum(y[-2:])) #sumof last two elments\n",
    "print(sum(y[:3]))  #sum of first three element\n",
    "\n",
    "#TUPLE\n",
    "z=(1,2,3)\n",
    "print(sum(z))\n"
   ]
  },
  {
   "cell_type": "markdown",
   "metadata": {},
   "source": [
    "***sorting of alphabates n numerics***"
   ]
  },
  {
   "cell_type": "code",
   "execution_count": 18,
   "metadata": {},
   "outputs": [
    {
     "name": "stdout",
     "output_type": "stream",
     "text": [
      "['h', 'n', 'o', 'p', 't', 'y']\n",
      "[1, 2, 3]\n",
      "[',mango', 'apple']\n",
      "[7, 23, 45, 90]\n",
      "['hen', 'love', 'mug', 'wow']\n"
     ]
    }
   ],
   "source": [
    "#sTRING\n",
    "x='pyhton'\n",
    "print(sorted(x))       ##it gonna slice the string\n",
    "\n",
    "#LIST\n",
    "y=[1,2,3]\n",
    "z=['apple',',mango']\n",
    "print(sorted(y))       \n",
    "print(sorted(z))\n",
    "\n",
    "#TUPLE\n",
    "n=(23,45,7,90)\n",
    "m=('wow','hen','mug','love')\n",
    "print(sorted(n))\n",
    "print(sorted(m))\n"
   ]
  },
  {
   "cell_type": "markdown",
   "metadata": {},
   "source": [
    "**SORTING ON THE BASIS OF THE SECOND ALPHABATE**"
   ]
  },
  {
   "cell_type": "code",
   "execution_count": 25,
   "metadata": {},
   "outputs": [
    {
     "name": "stdout",
     "output_type": "stream",
     "text": [
      "['hen', 'light', 'cow', 'zug']\n",
      "['zug', 'light', 'hen', 'cow']\n"
     ]
    }
   ],
   "source": [
    "##CAN USE LAMBDA FUCTION\n",
    "m=('cow','hen','zug','light')\n",
    "print(sorted(m, key=lambda k:k[1])) ##sorting on the basis of 2nd aplhabate \n",
    "\n",
    "\n",
    "print(sorted(m, key=lambda k:k[2])) ##sorting on the basis of 2nd aplhabate \n",
    "\n"
   ]
  },
  {
   "cell_type": "markdown",
   "metadata": {},
   "source": [
    "***count(item) = return the count of a item***"
   ]
  },
  {
   "cell_type": "code",
   "execution_count": 29,
   "metadata": {},
   "outputs": [
    {
     "name": "stdout",
     "output_type": "stream",
     "text": [
      "2\n",
      "3\n",
      "2\n"
     ]
    }
   ],
   "source": [
    "#string\n",
    "x='madam'\n",
    "print(x.count('m'))  ##counting the no of a letter in string\n",
    "\n",
    "#list\n",
    "y=['java','html','java','python','java']  ##count of a element\n",
    "print(y.count('java'))\n",
    "\n",
    "#tuple\n",
    "m=('india','hindi','india')   ##count of item\n",
    "print(m.count('india'))"
   ]
  },
  {
   "cell_type": "markdown",
   "metadata": {},
   "source": [
    "***index(item)=returns the index of first ocuurance of that item***"
   ]
  },
  {
   "cell_type": "code",
   "execution_count": 33,
   "metadata": {},
   "outputs": [
    {
     "name": "stdout",
     "output_type": "stream",
     "text": [
      "2\n",
      "0\n",
      "3\n"
     ]
    }
   ],
   "source": [
    "x='madam'\n",
    "print(x.index('d')) \n",
    "\n",
    "#list\n",
    "y=['java','html','java','python','java']  \n",
    "print(y.index('java'))\n",
    "\n",
    "#tuple\n",
    "m=('red','blue','pink','yellow')\n",
    "print(m.index('yellow'))"
   ]
  },
  {
   "cell_type": "markdown",
   "metadata": {},
   "source": [
    "***unpacking = unpack items of list into variables***"
   ]
  },
  {
   "cell_type": "code",
   "execution_count": 35,
   "metadata": {},
   "outputs": [
    {
     "name": "stdout",
     "output_type": "stream",
     "text": [
      "car bus truck\n"
     ]
    }
   ],
   "source": [
    "item = ['car','bus','truck']\n",
    "a,b,c = item  ##just have assigned a varible to each item of the list\n",
    "print(a,b,c) ##printing the variables"
   ]
  },
  {
   "cell_type": "markdown",
   "metadata": {},
   "source": [
    "### LISTS"
   ]
  },
  {
   "cell_type": "code",
   "execution_count": 1,
   "metadata": {},
   "outputs": [
    {
     "name": "stdout",
     "output_type": "stream",
     "text": [
      "['20', 'red', 'hello', '245']\n",
      "\n",
      "['green', 'red']\n"
     ]
    }
   ],
   "source": [
    "##METHOD OF CREATING A LIST\n",
    "x = ['20','red','hello','245']\n",
    "print(x)\n",
    "\n",
    "y=list()   ##empty list\n",
    "\n",
    "tuple = ('green','red')\n",
    "new = list(tuple)\n",
    "print(new)"
   ]
  },
  {
   "cell_type": "code",
   "execution_count": 4,
   "metadata": {},
   "outputs": [
    {
     "name": "stdout",
     "output_type": "stream",
     "text": [
      "[0, 1, 2, 3, 4, 5, 6, 7, 8, 9]\n",
      "[0, 2, 4, 6, 8]\n",
      "[0, 1, 4, 9, 16]\n"
     ]
    }
   ],
   "source": [
    "##LIST COMPREHENSTION\n",
    "\n",
    "list= [n for n in range(10)]  ##list of first 9 no\n",
    "print(list)\n",
    "\n",
    "list=[i*2 for i in range(10) if i < 5 ]   ##multipling 2 in each item of list\n",
    "print(list)\n",
    "\n",
    "list=[i*i for i in range(10) if i < 5 ]   ##squaring each item in the list \n",
    "print(list)"
   ]
  },
  {
   "cell_type": "markdown",
   "metadata": {},
   "source": [
    "***append / extend / insert***"
   ]
  },
  {
   "cell_type": "code",
   "execution_count": 3,
   "metadata": {},
   "outputs": [
    {
     "name": "stdout",
     "output_type": "stream",
     "text": [
      "[2, 3, 4, 5, 7]\n",
      "[10, 20, 30, 100, 300]\n",
      "[34, 45, 56, 200]\n"
     ]
    }
   ],
   "source": [
    "##append\n",
    "x=[2,3,4,5]\n",
    "x.append(7) ##append can take only one argument n gonna add at the end\n",
    "print(x)\n",
    "\n",
    "##extend\n",
    "y=[10,20,30]\n",
    "z=[100,300]  ##extending the list\n",
    "y.extend(z)\n",
    "print(y)\n",
    "\n",
    "##insert\n",
    "n=[34,45,56]\n",
    "n.insert(100,200)\n",
    "print(n)\n",
    "n=[12,23,34]\n",
    "n.insert(1,['hello','hii'])"
   ]
  },
  {
   "cell_type": "markdown",
   "metadata": {},
   "source": [
    "***del / remove / pop /insert***"
   ]
  },
  {
   "cell_type": "code",
   "execution_count": 5,
   "metadata": {},
   "outputs": [
    {
     "name": "stdout",
     "output_type": "stream",
     "text": [
      "[1, 2, 4]\n",
      "[11, 22, 44, 66]\n",
      "[100, 200]\n",
      "200\n"
     ]
    }
   ],
   "source": [
    "#deleting a element\n",
    "x=[1,2,3,4]     ##del on basis of index\n",
    "del(x[2])\n",
    "print(x)\n",
    "\n",
    "#removeing \n",
    "x=[11,22,33,44,66]  ##removing a perticular item from list\n",
    "x.remove(33)\n",
    "print(x)\n",
    "\n",
    "\n",
    "#pop\n",
    "x=[100,200,300]  ##just pop will pop out the last item only\n",
    "x.pop()\n",
    "print(x)\n",
    "print(x.pop())\n"
   ]
  },
  {
   "cell_type": "markdown",
   "metadata": {},
   "source": [
    "***reverse / sort***\n",
    "\n",
    "sorted() =sort the new list without changing the original one\n",
    "\n",
    "sort() = sort list in place"
   ]
  },
  {
   "cell_type": "code",
   "execution_count": 12,
   "metadata": {},
   "outputs": [
    {
     "name": "stdout",
     "output_type": "stream",
     "text": [
      "[4, 3, 2, 1]\n",
      "[1, 5, 23, 62, 100]\n",
      "[100, 62, 23, 5, 1]\n"
     ]
    }
   ],
   "source": [
    "x=[1,2,3,4]\n",
    "x.reverse()\n",
    "print(x)\n",
    "\n",
    "#sort\n",
    "x=[1,23,100,5,62]         ##sort in increasing order\n",
    "x.sort()\n",
    "print(x)\n",
    "\n",
    "y=[90,1,72,300,5]          ##sort in decresing order\n",
    "x.sort(reverse=True)\n",
    "print(x)"
   ]
  },
  {
   "cell_type": "markdown",
   "metadata": {},
   "source": [
    "### TUPLES\n",
    "\n",
    "*THEY ARE IMMUTABLE\n",
    "\n",
    "*USEFUL FOR FIXED DATA\n",
    "\n",
    "*FASTER THAN THE LIST\n"
   ]
  },
  {
   "cell_type": "code",
   "execution_count": 14,
   "metadata": {},
   "outputs": [
    {
     "name": "stdout",
     "output_type": "stream",
     "text": [
      "(1, 2, 3, 4)\n",
      "(10, 20, 30)\n",
      "(1,)\n",
      "(23, 34, 45)\n",
      "(23, 34, 45) <class 'tuple'>\n"
     ]
    }
   ],
   "source": [
    "##CREATING / CONSTRUCTING TUPLES\n",
    "\n",
    "x=()\n",
    "\n",
    "x=(1,2,3,4)\n",
    "print(x)\n",
    "\n",
    "x=10,20,30    ##python will consider it as tuples\n",
    "print(x)\n",
    "\n",
    "x=1,\n",
    "print(x)     ##tuple having one item just put a comma python will consider it as a tuple\n",
    "\n",
    "list=[23,34,45]    ##converting list to tuple\n",
    "x=tuple(list)\n",
    "print(x)\n",
    "print(x, type(x))  #can also check the type"
   ]
  },
  {
   "cell_type": "code",
   "execution_count": null,
   "metadata": {},
   "outputs": [],
   "source": []
  }
 ],
 "metadata": {
  "kernelspec": {
   "display_name": "Python 3",
   "language": "python",
   "name": "python3"
  },
  "language_info": {
   "codemirror_mode": {
    "name": "ipython",
    "version": 3
   },
   "file_extension": ".py",
   "mimetype": "text/x-python",
   "name": "python",
   "nbconvert_exporter": "python",
   "pygments_lexer": "ipython3",
   "version": "3.7.3"
  }
 },
 "nbformat": 4,
 "nbformat_minor": 2
}
