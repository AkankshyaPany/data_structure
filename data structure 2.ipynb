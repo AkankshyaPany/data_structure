{
 "cells": [
  {
   "cell_type": "markdown",
   "metadata": {},
   "source": [
    "## SET\n",
    "\n",
    "It does not allow duplicates\n",
    "\n",
    "It has faster Acess then list\n",
    "\n",
    "set are unordered"
   ]
  },
  {
   "cell_type": "code",
   "execution_count": 3,
   "metadata": {},
   "outputs": [
    {
     "name": "stdout",
     "output_type": "stream",
     "text": [
      "{1, 2, 3}\n",
      "{}\n",
      "{1, 2, 5}\n"
     ]
    }
   ],
   "source": [
    "#CONSTRUCTIONG SETS\n",
    "\n",
    "x={1,2,3,3,3}  ##gonna delete theses duplicate 3\n",
    "print(x)\n",
    "\n",
    "x={}      ## empty set\n",
    "print(x)\n",
    "\n",
    "list=[1,2,5]\n",
    "x=set(list)\n",
    "print(x)"
   ]
  },
  {
   "cell_type": "markdown",
   "metadata": {},
   "source": [
    "***SET OPERATIONS***"
   ]
  },
  {
   "cell_type": "code",
   "execution_count": 6,
   "metadata": {},
   "outputs": [
    {
     "name": "stdout",
     "output_type": "stream",
     "text": [
      "{1, 2, 3}\n",
      "{1, 3}\n",
      "{3}\n",
      "{10, 3}\n",
      "2\n",
      "True\n",
      "False\n"
     ]
    }
   ],
   "source": [
    "x={1,2,3}\n",
    "print(x)\n",
    "\n",
    "x.remove(2)  ##removing a element\n",
    "print(x)\n",
    "\n",
    "x.pop()     ##pop but as set is not ordered we cant say which one will be pop out\n",
    "print(x)\n",
    "\n",
    "x.add(10)\n",
    "print(x)\n",
    "\n",
    "print((len(x)))   #length of set\n",
    "\n",
    "print(3 in x)     #membership check\n",
    "\n",
    "print(10 not in x)\n",
    "\n"
   ]
  },
  {
   "cell_type": "markdown",
   "metadata": {},
   "source": [
    "***SET MATHEMATICAL OPERATION***"
   ]
  },
  {
   "cell_type": "code",
   "execution_count": 8,
   "metadata": {},
   "outputs": [
    {
     "name": "stdout",
     "output_type": "stream",
     "text": [
      "{1, 2, 3, 20, 10, 30}\n",
      "set()\n",
      "{1, 2, 3, 10, 20, 30}\n",
      "{1, 2, 3}\n",
      "False\n",
      "False\n"
     ]
    }
   ],
   "source": [
    "x={1,2,3}\n",
    "y={10,20,30}\n",
    "\n",
    "print(x|y)   ## union (OR)\n",
    "print(x&y)   ## intersection(AND)\n",
    "print(x^y)   ## symmetric difference\n",
    "print(x-y)   ## difference of two set\n",
    "print(x<=y)  ## subset\n",
    "print(x>=y)  ## superset"
   ]
  },
  {
   "cell_type": "markdown",
   "metadata": {},
   "source": [
    "## DICTIONARY\n",
    "\n",
    "They are key-value pairs\n",
    "\n",
    "They are unodered"
   ]
  },
  {
   "cell_type": "code",
   "execution_count": 18,
   "metadata": {},
   "outputs": [
    {
     "name": "stdout",
     "output_type": "stream",
     "text": [
      "{'green': 2, 'red': 6, 'blue': 7, 'yellow': 5.2}\n",
      "{'apple': 1, 'mango': 2, 'orange': 3}\n"
     ]
    }
   ],
   "source": [
    "##CREATING DICTIONARY\n",
    "\n",
    "x = {'green':2 ,'red':6,'blue':7,'yellow':5.2}\n",
    "print(x)\n",
    "\n",
    "x=dict(apple=1, mango=2, orange=3)\n",
    "print(x)"
   ]
  },
  {
   "cell_type": "markdown",
   "metadata": {},
   "source": [
    "***Dict Operation***"
   ]
  },
  {
   "cell_type": "code",
   "execution_count": 27,
   "metadata": {},
   "outputs": [
    {
     "name": "stdout",
     "output_type": "stream",
     "text": [
      "{'green': 2, 'red': 6, 'blue': 7, 'yellow': 5.2}\n",
      "{'green': 2, 'red': 6, 'blue': 7, 'yellow': 5.2, 'pink': 10}\n",
      "{'green': 2, 'red': 6, 'yellow': 5.2, 'pink': 10}\n",
      "4\n",
      "dict_keys(['green', 'red', 'yellow', 'pink'])\n",
      "dict_values([2, 6, 5.2, 10])\n",
      "dict_items([('green', 2), ('red', 6), ('yellow', 5.2), ('pink', 10)])\n",
      "True\n",
      "False\n"
     ]
    }
   ],
   "source": [
    "x = {'green':2 ,'red':6,'blue':7,'yellow':5.2}\n",
    "print(x)\n",
    "\n",
    "x['pink']=10    ##adding item to dict\n",
    "print(x)\n",
    "\n",
    "del(x['blue'])   ##deleting item from dict\n",
    "print(x)\n",
    "\n",
    "print(len(x))   ##printing length of dict\n",
    "\n",
    "print(x.keys())\n",
    "print(x.values())\n",
    "print(x.items())\n",
    "\n",
    "print('pink' in x)   ##membership\n",
    "\n",
    "print('5.2' in x.values())\n"
   ]
  },
  {
   "cell_type": "code",
   "execution_count": 28,
   "metadata": {},
   "outputs": [
    {
     "name": "stdout",
     "output_type": "stream",
     "text": [
      "green 2\n",
      "red 6\n",
      "blue 7\n",
      "yellow 5.2\n"
     ]
    }
   ],
   "source": [
    "##iterating a dict\n",
    "x = {'green':2 ,'red':6,'blue':7,'yellow':5.2}\n",
    "for k,v in x.items():\n",
    "    print(k,v)"
   ]
  },
  {
   "cell_type": "code",
   "execution_count": null,
   "metadata": {},
   "outputs": [],
   "source": []
  }
 ],
 "metadata": {
  "kernelspec": {
   "display_name": "Python 3",
   "language": "python",
   "name": "python3"
  },
  "language_info": {
   "codemirror_mode": {
    "name": "ipython",
    "version": 3
   },
   "file_extension": ".py",
   "mimetype": "text/x-python",
   "name": "python",
   "nbconvert_exporter": "python",
   "pygments_lexer": "ipython3",
   "version": "3.7.3"
  }
 },
 "nbformat": 4,
 "nbformat_minor": 2
}
